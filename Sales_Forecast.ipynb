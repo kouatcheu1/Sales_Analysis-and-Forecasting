{
 "cells": [
  {
   "cell_type": "markdown",
   "id": "176cfd9b-f631-4816-a3e7-de0cf215ff10",
   "metadata": {},
   "source": [
    "# Importing the right libraries"
   ]
  },
  {
   "cell_type": "code",
   "execution_count": 2,
   "id": "8d3537b1-09a7-4985-85cf-8fb6f3011c4e",
   "metadata": {},
   "outputs": [],
   "source": [
    "# importing the right libraries\n",
    "import prophet"
   ]
  },
  {
   "cell_type": "markdown",
   "id": "0fc8719c-06e8-490a-b59a-13a8659105b2",
   "metadata": {},
   "source": [
    "## Loading the dataset into pandas dataframe"
   ]
  },
  {
   "cell_type": "code",
   "execution_count": 18,
   "id": "c0ee53b5-3032-4deb-983e-c15f93c938fe",
   "metadata": {},
   "outputs": [],
   "source": [
    "# Load and preprocess sales data. \n",
    "import pandas as pd\n",
    "\n",
    "# Load the sales data\n",
    "# file_path = 'cleaned_sales_data'  \n",
    "sales_data = pd.read_csv('cleaned_sales_data.csv')\n",
    "# print(sales_data)"
   ]
  },
  {
   "cell_type": "markdown",
   "id": "55bd3f0a-4a2c-4ef2-af14-06583d29ca10",
   "metadata": {},
   "source": [
    "### Data Preprocessing"
   ]
  },
  {
   "cell_type": "code",
   "execution_count": 19,
   "id": "60e7adb9-38ec-4ca5-bffa-f24dfd05d74e",
   "metadata": {},
   "outputs": [
    {
     "name": "stdout",
     "output_type": "stream",
     "text": [
      "      new_date      Total\n",
      "0   2019-01-01  3856.5660\n",
      "1   2019-01-02  1945.5030\n",
      "2   2019-01-03  1017.0825\n",
      "3   2019-01-04   993.8460\n",
      "4   2019-01-05  1692.8940\n",
      "..         ...        ...\n",
      "84  2019-03-26  1598.9295\n",
      "85  2019-03-27  1112.3070\n",
      "86  2019-03-28  1788.2760\n",
      "87  2019-03-29  2870.6580\n",
      "88  2019-03-30  3114.2580\n",
      "\n",
      "[89 rows x 2 columns]\n"
     ]
    }
   ],
   "source": [
    "# Aggregate the sales data by date to get daily total sales\n",
    "daily_sales = sales_data.groupby('new_date').agg({'Total': 'sum'}).reset_index()\n",
    "print(daily_sales)"
   ]
  },
  {
   "cell_type": "code",
   "execution_count": 15,
   "id": "b7b0887e-0832-4d92-a30e-f956ec0acc86",
   "metadata": {},
   "outputs": [],
   "source": [
    "# Create a continuous date range to fill any missing dates with 0 sales\n",
    "daily_sales = daily_sales.set_index('new_date').asfreq('D').fillna(0).reset_index()"
   ]
  },
  {
   "cell_type": "markdown",
   "id": "4b2740cf-28db-44c2-a97a-db68d90f2418",
   "metadata": {},
   "source": [
    "### Forecasting with prophet model"
   ]
  },
  {
   "cell_type": "code",
   "execution_count": null,
   "id": "091e9d25-195c-4d94-bd24-5dcd886a9791",
   "metadata": {},
   "outputs": [
    {
     "name": "stderr",
     "output_type": "stream",
     "text": [
      "15:26:36 - cmdstanpy - INFO - Chain [1] start processing\n"
     ]
    }
   ],
   "source": [
    "# Forecasting with prophet\n",
    "from prophet import Prophet\n",
    "import matplotlib.pyplot as plt\n",
    "\n",
    "# Prepare data for Prophet\n",
    "prophet_data = daily_sales.rename(columns={'new_date': 'ds', 'Total': 'y'})\n",
    "\n",
    "# Initialize and fit the Prophet model\n",
    "model = Prophet(yearly_seasonality=True, daily_seasonality=False)\n",
    "model.fit(prophet_data)\n",
    "\n",
    "# Make predictions for the next 90 days\n",
    "future = model.make_future_dataframe(periods=60)  \n",
    "forecast = model.predict(future)\n",
    "\n",
    "# Plot the forecast\n",
    "model.plot(forecast)\n",
    "plt.title('Future Sales Forecast with Prophet')\n",
    "plt.xlabel('Date')\n",
    "plt.ylabel('Sales')\n",
    "plt.show()\n"
   ]
  },
  {
   "cell_type": "code",
   "execution_count": null,
   "id": "22650e1c-926c-408e-9a07-56deccd8c359",
   "metadata": {},
   "outputs": [],
   "source": []
  }
 ],
 "metadata": {
  "kernelspec": {
   "display_name": "Python 3 (ipykernel)",
   "language": "python",
   "name": "python3"
  },
  "language_info": {
   "codemirror_mode": {
    "name": "ipython",
    "version": 3
   },
   "file_extension": ".py",
   "mimetype": "text/x-python",
   "name": "python",
   "nbconvert_exporter": "python",
   "pygments_lexer": "ipython3",
   "version": "3.11.7"
  }
 },
 "nbformat": 4,
 "nbformat_minor": 5
}
